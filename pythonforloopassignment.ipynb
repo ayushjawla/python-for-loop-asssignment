{
 "cells": [
  {
   "cell_type": "markdown",
   "id": "62455b90-018d-4ec6-af60-7ab03c3fff6e",
   "metadata": {},
   "source": [
    "# Question 1: Write a Python program to print all the numbers from 1 to 10 using a for loop.\n"
   ]
  },
  {
   "cell_type": "code",
   "execution_count": 2,
   "id": "17496d61-d756-4887-91d9-813f79c4753a",
   "metadata": {},
   "outputs": [
    {
     "name": "stdout",
     "output_type": "stream",
     "text": [
      "1\n",
      "2\n",
      "3\n",
      "4\n",
      "5\n",
      "6\n",
      "7\n",
      "8\n",
      "9\n",
      "10\n"
     ]
    }
   ],
   "source": [
    "for i in range(1,11):\n",
    "    print(i)"
   ]
  },
  {
   "cell_type": "markdown",
   "id": "c1abf99f-ae7e-4c91-917b-a7dd49559054",
   "metadata": {},
   "source": [
    "# Question 2: Write a Python program to find the sum of all numbers from 1 to 100 using a for loop."
   ]
  },
  {
   "cell_type": "code",
   "execution_count": 3,
   "id": "8f5d3b09-fdfd-4b21-a288-640dace053f9",
   "metadata": {},
   "outputs": [
    {
     "name": "stdout",
     "output_type": "stream",
     "text": [
      "1\n",
      "3\n",
      "6\n",
      "10\n",
      "15\n",
      "21\n",
      "28\n",
      "36\n",
      "45\n",
      "55\n",
      "66\n",
      "78\n",
      "91\n",
      "105\n",
      "120\n",
      "136\n",
      "153\n",
      "171\n",
      "190\n",
      "210\n",
      "231\n",
      "253\n",
      "276\n",
      "300\n",
      "325\n",
      "351\n",
      "378\n",
      "406\n",
      "435\n",
      "465\n",
      "496\n",
      "528\n",
      "561\n",
      "595\n",
      "630\n",
      "666\n",
      "703\n",
      "741\n",
      "780\n",
      "820\n",
      "861\n",
      "903\n",
      "946\n",
      "990\n",
      "1035\n",
      "1081\n",
      "1128\n",
      "1176\n",
      "1225\n",
      "1275\n",
      "1326\n",
      "1378\n",
      "1431\n",
      "1485\n",
      "1540\n",
      "1596\n",
      "1653\n",
      "1711\n",
      "1770\n",
      "1830\n",
      "1891\n",
      "1953\n",
      "2016\n",
      "2080\n",
      "2145\n",
      "2211\n",
      "2278\n",
      "2346\n",
      "2415\n",
      "2485\n",
      "2556\n",
      "2628\n",
      "2701\n",
      "2775\n",
      "2850\n",
      "2926\n",
      "3003\n",
      "3081\n",
      "3160\n",
      "3240\n",
      "3321\n",
      "3403\n",
      "3486\n",
      "3570\n",
      "3655\n",
      "3741\n",
      "3828\n",
      "3916\n",
      "4005\n",
      "4095\n",
      "4186\n",
      "4278\n",
      "4371\n",
      "4465\n",
      "4560\n",
      "4656\n",
      "4753\n",
      "4851\n",
      "4950\n",
      "5050\n"
     ]
    }
   ],
   "source": [
    "sum = 0\n",
    "for i in range(1,101):\n",
    "    sum = sum + i\n",
    "    print(sum)"
   ]
  },
  {
   "cell_type": "markdown",
   "id": "6b0b92fd-6367-4ba6-a4fb-12abd3927865",
   "metadata": {},
   "source": [
    "# Question 3: Write a Python program to print the multiplication table of a given number using a for loop. "
   ]
  },
  {
   "cell_type": "code",
   "execution_count": 4,
   "id": "c47fedf9-5afe-4b9b-9acb-3e957a5a58a7",
   "metadata": {},
   "outputs": [
    {
     "name": "stdin",
     "output_type": "stream",
     "text": [
      "Enter a number: 2\n"
     ]
    },
    {
     "name": "stdout",
     "output_type": "stream",
     "text": [
      "2\n",
      "4\n",
      "6\n",
      "8\n",
      "10\n",
      "12\n",
      "14\n",
      "16\n",
      "18\n",
      "20\n"
     ]
    }
   ],
   "source": [
    "n = int(input(\"Enter a number:\"))\n",
    "for i in range(1,11):\n",
    "    print(n * i)"
   ]
  },
  {
   "cell_type": "markdown",
   "id": "7faa8828-b780-4ee9-93f0-4bfbe54f5f99",
   "metadata": {},
   "source": [
    "# Question 4: Write a Python program to count the number of even and odd numbers from a series of numbers using a for loop"
   ]
  },
  {
   "cell_type": "code",
   "execution_count": 15,
   "id": "951a55c6-6bab-416e-8e2c-d84b46b8ede4",
   "metadata": {},
   "outputs": [
    {
     "name": "stdout",
     "output_type": "stream",
     "text": [
      "even number: 10\n",
      "odd number: 10\n"
     ]
    }
   ],
   "source": [
    "#num = [1,2,3,4,5,6,7,8,9,10]\n",
    "even_count = 0\n",
    "odd_count = 0\n",
    "for i in range(1,21):\n",
    "    if i % 2 == 0:\n",
    "        even_count = even_count + 1\n",
    "    else:\n",
    "        odd_count = odd_count + 1\n",
    "\n",
    "print(\"even number:\",even_count)\n",
    "print(\"odd number:\",odd_count)"
   ]
  },
  {
   "cell_type": "markdown",
   "id": "40731c17-a031-4a85-9db0-a66a324b0c36",
   "metadata": {},
   "source": [
    "# Question 5: Write a Python program to find the factorial of a number using a for loop.\n"
   ]
  },
  {
   "cell_type": "code",
   "execution_count": 14,
   "id": "229c3330-0a28-4a40-be10-8f8cdb122bdc",
   "metadata": {},
   "outputs": [
    {
     "name": "stdin",
     "output_type": "stream",
     "text": [
      "Enter a number: 4\n"
     ]
    },
    {
     "name": "stdout",
     "output_type": "stream",
     "text": [
      "factorial of given number: 24\n"
     ]
    }
   ],
   "source": [
    "n = int(input(\"Enter a number:\"))\n",
    "fact = 1\n",
    "for i in range(1, n+1):\n",
    "    fact = fact * i\n",
    "print(\"factorial of given number:\",fact)"
   ]
  },
  {
   "cell_type": "markdown",
   "id": "61e68e60-fa80-49b1-a474-47ed7eb3bdae",
   "metadata": {},
   "source": [
    "# Question 6: Write a Python program to print the Fibonacci sequence up to a specified number using a for loop"
   ]
  },
  {
   "cell_type": "code",
   "execution_count": 25,
   "id": "18665446-4dd8-4341-be8b-987dc5540871",
   "metadata": {},
   "outputs": [
    {
     "name": "stdin",
     "output_type": "stream",
     "text": [
      "Enter a number: 5\n"
     ]
    },
    {
     "name": "stdout",
     "output_type": "stream",
     "text": [
      "fibonacci sequence:\n",
      "0 1 1 2 3 "
     ]
    }
   ],
   "source": [
    "n = int(input(\"Enter a number:\"))\n",
    "a, b = 0, 1\n",
    "print(\"fibonacci sequence:\")\n",
    "for i in range(n):\n",
    "    print(a, end = \" \")\n",
    "    a, b = b,a + b"
   ]
  },
  {
   "cell_type": "markdown",
   "id": "8b0255d0-7279-4a9b-8472-dc71c516afb1",
   "metadata": {},
   "source": [
    "# Question 7: Write a Python program to check if a given number is prime or not using a for loop."
   ]
  },
  {
   "cell_type": "code",
   "execution_count": 30,
   "id": "41df7dba-0521-477d-8874-ba5c11524da9",
   "metadata": {},
   "outputs": [
    {
     "name": "stdin",
     "output_type": "stream",
     "text": [
      "Enter  a number: 6\n"
     ]
    },
    {
     "name": "stdout",
     "output_type": "stream",
     "text": [
      "6 is not prime\n"
     ]
    }
   ],
   "source": [
    "n = int(input(\"Enter  a number:\"))\n",
    "is_prime = True\n",
    "\n",
    "if n < 2:\n",
    "    is_prime = False\n",
    "else:\n",
    "    for i in range(2,n):\n",
    "        if n % i == 0:\n",
    "            is_prime = False\n",
    "            break\n",
    "if is_prime:\n",
    "    print(n, \"is prime\")\n",
    "else:\n",
    "    print(n, \"is not prime\")\n",
    "    "
   ]
  },
  {
   "cell_type": "markdown",
   "id": "7ede535e-2cb7-494f-8a7d-b9a2383527fd",
   "metadata": {},
   "source": [
    "# Question 8: Write a Python program to find the largest element in a list using a for loop. "
   ]
  },
  {
   "cell_type": "code",
   "execution_count": 38,
   "id": "caff01c4-9239-4ce6-ad62-33bf231f7319",
   "metadata": {},
   "outputs": [
    {
     "name": "stdout",
     "output_type": "stream",
     "text": [
      "largest number is: 500\n"
     ]
    }
   ],
   "source": [
    "num = [10,12,34,47,500,60,17,80,99,110]\n",
    "largest = num[0]\n",
    "for i in num:\n",
    "    if i > largest:\n",
    "        largest = i\n",
    "\n",
    "print(\"largest number is:\",largest)\n",
    "    "
   ]
  },
  {
   "cell_type": "markdown",
   "id": "3b90d774-a1b4-4bf5-a058-226adc412a13",
   "metadata": {},
   "source": [
    "# . Question 9: Write a Python program to reverse a given string using a for loop. "
   ]
  },
  {
   "cell_type": "code",
   "execution_count": 39,
   "id": "693b305a-fed4-4300-95d9-35b49977f3d0",
   "metadata": {},
   "outputs": [
    {
     "name": "stdin",
     "output_type": "stream",
     "text": [
      "Enter a string; ayush\n"
     ]
    },
    {
     "name": "stdout",
     "output_type": "stream",
     "text": [
      "Reversed string is: hsuya\n"
     ]
    }
   ],
   "source": [
    "text = input(\"Enter a string;\")\n",
    "rev_str = \"\"\n",
    "for ch in text:\n",
    "    rev_str = ch + rev_str\n",
    "print(\"Reversed string is:\",rev_str)"
   ]
  },
  {
   "cell_type": "markdown",
   "id": "2e68daae-1d2e-413a-bf17-26df49b652a2",
   "metadata": {},
   "source": [
    "# Question 10: Write a Python program to find the common elements between two lists using a for loop. List1 = [1,2,3] List2 = [4,5,1] # common element is 1"
   ]
  },
  {
   "cell_type": "code",
   "execution_count": 40,
   "id": "32a53e2f-e3d1-459b-a3b7-34637fdba93f",
   "metadata": {},
   "outputs": [
    {
     "name": "stdout",
     "output_type": "stream",
     "text": [
      "Common element: [1]\n"
     ]
    }
   ],
   "source": [
    "list1 = [1,2,3]\n",
    "list2 = [4,5,1]\n",
    "common = []\n",
    "for i in list1:\n",
    "    if i in list2:\n",
    "        common.append(i)\n",
    "print(\"Common element:\",common)"
   ]
  },
  {
   "cell_type": "code",
   "execution_count": null,
   "id": "eb8b05b2-9c44-40f7-ae51-cfb605183820",
   "metadata": {},
   "outputs": [],
   "source": []
  }
 ],
 "metadata": {
  "kernelspec": {
   "display_name": "Python 3 (ipykernel)",
   "language": "python",
   "name": "python3"
  },
  "language_info": {
   "codemirror_mode": {
    "name": "ipython",
    "version": 3
   },
   "file_extension": ".py",
   "mimetype": "text/x-python",
   "name": "python",
   "nbconvert_exporter": "python",
   "pygments_lexer": "ipython3",
   "version": "3.13.5"
  }
 },
 "nbformat": 4,
 "nbformat_minor": 5
}
